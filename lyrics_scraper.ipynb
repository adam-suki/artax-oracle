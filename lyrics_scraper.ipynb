{
 "cells": [
  {
   "cell_type": "code",
   "execution_count": null,
   "id": "9d0463ac-59cd-4b70-b4bf-69b6c0867432",
   "metadata": {},
   "outputs": [],
   "source": [
    "from utils.genius import *"
   ]
  },
  {
   "cell_type": "markdown",
   "id": "c57e4d22-88da-4dd9-9479-46911c0205cc",
   "metadata": {},
   "source": [
    "# Query site and collect artist information"
   ]
  },
  {
   "cell_type": "code",
   "execution_count": null,
   "id": "bd0b8d06-bb05-4581-83da-3d95d8c2fc93",
   "metadata": {
    "tags": []
   },
   "outputs": [],
   "source": [
    "# {Artist ID - Artist name - Song} for query term\n",
    "search_genius('muse')"
   ]
  },
  {
   "cell_type": "code",
   "execution_count": null,
   "id": "fc91ff7d-6ee7-416f-807d-1f55e6af8aee",
   "metadata": {
    "tags": []
   },
   "outputs": [],
   "source": [
    "# Full response\n",
    "get_json('search?q=creep')"
   ]
  },
  {
   "cell_type": "markdown",
   "id": "99455bea-3cda-4490-99af-ed57a0886f7a",
   "metadata": {
    "tags": []
   },
   "source": [
    "# Corpus builder"
   ]
  },
  {
   "cell_type": "code",
   "execution_count": null,
   "id": "1495106e-55a3-4ce9-bbea-d95da84238d7",
   "metadata": {},
   "outputs": [],
   "source": [
    "# Update KVS with target information\n",
    "scrape_these ={'radiohead': 604,\n",
    "               'thom_yorke': 49096,\n",
    "               'deftones': 14195,\n",
    "               'nirvana': 12712,\n",
    "               'atoms_for_peace': 24846,\n",
    "               'muse': 13088\n",
    "              }"
   ]
  },
  {
   "cell_type": "code",
   "execution_count": null,
   "id": "349eb792-3c18-4f09-b35b-5c9951fe9c9b",
   "metadata": {},
   "outputs": [],
   "source": [
    "get_song_ids(604)"
   ]
  },
  {
   "cell_type": "code",
   "execution_count": null,
   "id": "e0a0c311-3d6c-47aa-8dd7-c0863357e385",
   "metadata": {
    "tags": []
   },
   "outputs": [],
   "source": [
    "artist_ids = list(scrape_these.values())\n",
    "artist_names = list(scrape_these.keys())\n",
    "song_ids = [get_song_ids(x) for x in artist_ids]"
   ]
  },
  {
   "cell_type": "code",
   "execution_count": null,
   "id": "c61cd132-9d64-4f9c-b6d5-4a1d792c2e85",
   "metadata": {
    "tags": []
   },
   "outputs": [],
   "source": [
    "from pathlib import Path\n",
    "\n",
    "for i, artist in enumerate(artist_names):\n",
    "    for j, song in enumerate(song_ids[i]):\n",
    "        songname = artist + '_' +  str(song) + '.txt'\n",
    "        path = 'data/raw/' + songname\n",
    "        print(songname)\n",
    "        while True:\n",
    "            try:\n",
    "                if Path(path).is_file() != True:\n",
    "                    ly = retrieve_lyrics(song)\n",
    "                    save_lyrics(path, ly)\n",
    "            except AttributeError as error:\n",
    "                print(error)\n",
    "            else:\n",
    "                break"
   ]
  }
 ],
 "metadata": {
  "kernelspec": {
   "display_name": "Python [conda env:oracle] *",
   "language": "python",
   "name": "conda-env-oracle-py"
  },
  "language_info": {
   "codemirror_mode": {
    "name": "ipython",
    "version": 3
   },
   "file_extension": ".py",
   "mimetype": "text/x-python",
   "name": "python",
   "nbconvert_exporter": "python",
   "pygments_lexer": "ipython3",
   "version": "3.9.2"
  }
 },
 "nbformat": 4,
 "nbformat_minor": 5
}
