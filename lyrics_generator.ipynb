{
 "cells": [
  {
   "cell_type": "code",
   "execution_count": null,
   "id": "188ab980-c5d4-4630-85d8-6e2aa430a3ee",
   "metadata": {},
   "outputs": [],
   "source": [
    "from tensorflow import keras\n",
    "model = keras.models.load_model('models/defthomes_musevana')"
   ]
  },
  {
   "cell_type": "code",
   "execution_count": null,
   "id": "a8804e98-70a6-4793-acae-b8ba7abfa61a",
   "metadata": {},
   "outputs": [],
   "source": [
    "seed_text = \"Never give up and good luck will find you\"\n",
    "#seed_text = \"Artax, you're sinking Come on, turn around, you have to, now\"\n",
    "#seed_text = \"Artax, please, you're letting the sadness of the swamps get to you\"\n",
    "#seed_text = \"You have to care, for me, you're my friend, and I love you. Artax\"\n",
    "#seed_text = \"Stupid horse! You've gotta move or you'll die! Move, please!\"\n",
    "\n",
    "next_words = 100\n",
    "  \n",
    "for _ in range(next_words):\n",
    "\ttoken_list = tokenizer.texts_to_sequences([seed_text])[0]\n",
    "\ttoken_list = pad_sequences([token_list], maxlen=max_sequence_len-1, padding='pre')\n",
    "\tpredicted = model.predict_classes(token_list, verbose=0)\n",
    "\toutput_word = \"\"\n",
    "\tfor word, index in tokenizer.word_index.items():\n",
    "\t\tif index == predicted:\n",
    "\t\t\toutput_word = word\n",
    "\t\t\tbreak\n",
    "\tseed_text += \" \" + output_word\n",
    "print(seed_text)"
   ]
  },
  {
   "cell_type": "markdown",
   "id": "a480384a-c964-435d-b767-aa95281e4125",
   "metadata": {},
   "source": [
    "# Generating MIDIs\n",
    "Get vowels and assing notes to each one.import collections"
   ]
  },
  {
   "cell_type": "code",
   "execution_count": null,
   "id": "4ae17997-c2f4-4354-b392-670b8d778c4d",
   "metadata": {
    "tags": []
   },
   "outputs": [],
   "source": [
    "from utils.generator import *\n",
    "get_midi_from_vowels('atoms_for_peace.txt')"
   ]
  },
  {
   "cell_type": "code",
   "execution_count": null,
   "id": "1b16e5e7-9913-4dd9-9501-cc20750ae5ac",
   "metadata": {
    "tags": []
   },
   "outputs": [],
   "source": [
    "filename = 'atoms_for_peace.txt'\n",
    "with open(filename, 'r') as file:\n",
    "    lyrics = file.read().replace('\\n', '')\n",
    "encoder = minor\n",
    "degrees = [encoder[letter] for letter in lyrics if letter in vowels]\n",
    "degrees"
   ]
  },
  {
   "cell_type": "code",
   "execution_count": null,
   "id": "58b6dc9c-2bdb-40bd-80ac-39e920231ceb",
   "metadata": {},
   "outputs": [],
   "source": [
    "type(lyrics)"
   ]
  },
  {
   "cell_type": "code",
   "execution_count": null,
   "id": "8fb23a23-02f5-4ded-a454-0fae7653b1c0",
   "metadata": {},
   "outputs": [],
   "source": []
  }
 ],
 "metadata": {
  "kernelspec": {
   "display_name": "Python [conda env:oracle] *",
   "language": "python",
   "name": "conda-env-oracle-py"
  },
  "language_info": {
   "codemirror_mode": {
    "name": "ipython",
    "version": 3
   },
   "file_extension": ".py",
   "mimetype": "text/x-python",
   "name": "python",
   "nbconvert_exporter": "python",
   "pygments_lexer": "ipython3",
   "version": "3.9.2"
  }
 },
 "nbformat": 4,
 "nbformat_minor": 5
}
